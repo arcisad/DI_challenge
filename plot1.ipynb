%matplotlib inline
import matplotlib.pyplot as plt
import pandas as pd
import numpy as np
pd.set_option('display.max_columns', 500)

study = pd.read_csv('full_study.csv', index_col=0)

fig = plt.figure(1, figsize=(16, 10))
title_font = {'size': '24'}
axis_font = {'size': '20'}
plt.rc('xtick', labelsize=15)
plt.rc('ytick', labelsize=15)
xposition = list(study.index)
ymins = study.iloc[:, 0:4].min(axis=1)
ymaxs = study.iloc[:, 0:4].max(axis=1)
for c, xc in enumerate(xposition):
    plt.plot([xc, xc], [ymins[c], ymaxs[c]], color='k', linestyle='--')
plt.plot(study.index, study.iloc[:, 0], label='baseline', linewidth=3, linestyle='', marker='o', markersize=10)
plt.plot(study.index, study.iloc[:, 1], label='stress', linewidth=3, linestyle='', marker='X', markersize=10)
plt.plot(study.index, study.iloc[:, 2], label='amusement', linewidth=3, linestyle='', marker='D', markersize=10)
plt.plot(study.index, study.iloc[:, 3], label='meditation', linewidth=3, linestyle='', marker='s', markersize=10)
plt.xlabel('Subjects', **axis_font)
plt.ylabel('Temperature (°C)', **axis_font)
plt.legend(loc='lower right', prop={'size': 25})
plt.title('Mean temperature for 4 different moods for 15 subjects', **title_font)
plt.tight_layout()
